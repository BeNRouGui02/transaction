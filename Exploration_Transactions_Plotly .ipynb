{
 "cells": [
  {
   "cell_type": "code",
   "execution_count": null,
   "id": "d44bc40b",
   "metadata": {},
   "outputs": [],
   "source": [
    "import pandas as pd\n",
    "import plotly.express as px\n",
    "\n",
    "# Charger les données\n",
    "df = pd.read_csv(\"/Transactions_data_complet.csv\")\n",
    "\n",
    "# Prétraitement\n",
    "df[\"TransactionStartTime\"] = pd.to_datetime(df[\"TransactionStartTime\"])\n",
    "df[\"Date\"] = pd.to_datetime(df[\"TransactionStartTime\"].dt.date)\n"
   ]
  },
  {
   "cell_type": "code",
   "execution_count": null,
   "id": "32807970",
   "metadata": {},
   "outputs": [
    {
     "ename": "NameError",
     "evalue": "name 'px' is not defined",
     "output_type": "error",
     "traceback": [
      "\u001b[0;31m---------------------------------------------------------------------------\u001b[0m",
      "\u001b[0;31mNameError\u001b[0m                                 Traceback (most recent call last)",
      "Cell \u001b[0;32mIn[1], line 1\u001b[0m\n\u001b[0;32m----> 1\u001b[0m fig1 \u001b[38;5;241m=\u001b[39m \u001b[43mpx\u001b[49m\u001b[38;5;241m.\u001b[39mhistogram(df, x\u001b[38;5;241m=\u001b[39m\u001b[38;5;124m\"\u001b[39m\u001b[38;5;124mProductCategory\u001b[39m\u001b[38;5;124m\"\u001b[39m, color\u001b[38;5;241m=\u001b[39m\u001b[38;5;124m\"\u001b[39m\u001b[38;5;124mFraudResult\u001b[39m\u001b[38;5;124m\"\u001b[39m,\n\u001b[1;32m      2\u001b[0m                     title\u001b[38;5;241m=\u001b[39m\u001b[38;5;124m\"\u001b[39m\u001b[38;5;124mTransactions par catégorie de produit (avec fraude)\u001b[39m\u001b[38;5;124m\"\u001b[39m,\n\u001b[1;32m      3\u001b[0m                     barmode\u001b[38;5;241m=\u001b[39m\u001b[38;5;124m\"\u001b[39m\u001b[38;5;124mgroup\u001b[39m\u001b[38;5;124m\"\u001b[39m)\n\u001b[1;32m      4\u001b[0m fig1\u001b[38;5;241m.\u001b[39mshow()\n",
      "\u001b[0;31mNameError\u001b[0m: name 'px' is not defined"
     ]
    }
   ],
   "source": [
    "fig1 = px.histogram(df, x=\"dayofweek\", color=\"FraudResult\",\n",
    "                    title=\"Transactions par catégorie de produit (avec fraude)\",\n",
    "                    barmode=\"group\")\n",
    "fig1.show()\n"
   ]
  },
  {
   "cell_type": "code",
   "execution_count": null,
   "id": "78b60abf",
   "metadata": {},
   "outputs": [],
   "source": [
    "fig2 = px.box(df, x=\"ProviderId\", y=\"Amount\", points=\"all\",\n",
    "              title=\"Distribution des montants par fournisseur\")\n",
    "fig2.show()\n"
   ]
  },
  {
   "cell_type": "code",
   "execution_count": null,
   "id": "d7d52aec",
   "metadata": {},
   "outputs": [],
   "source": [
    "df_per_day = df.groupby(\"Date\").size().reset_index(name=\"Transactions\")\n",
    "fig3 = px.line(df_per_day, x=\"Date\", y=\"Transactions\",\n",
    "               title=\"Nombre de transactions par jour\")\n",
    "fig3.show()\n"
   ]
  },
  {
   "cell_type": "code",
   "execution_count": null,
   "id": "3f80c604",
   "metadata": {},
   "outputs": [],
   "source": [
    "fraud_df = df[\"FraudResult\"].value_counts().reset_index()\n",
    "fraud_df.columns = [\"FraudResult\", \"Count\"]\n",
    "fraud_df[\"FraudResult\"] = fraud_df[\"FraudResult\"].map({0: \"Normales\", 1: \"Frauduleuses\"})\n",
    "fig4 = px.pie(fraud_df, values=\"Count\", names=\"FraudResult\",\n",
    "              title=\"Répartition des transactions frauduleuses\")\n",
    "fig4.show()\n"
   ]
  }
 ],
 "metadata": {
  "kernelspec": {
   "display_name": "Python 3",
   "language": "python",
   "name": "python3"
  },
  "language_info": {
   "codemirror_mode": {
    "name": "ipython",
    "version": 3
   },
   "file_extension": ".py",
   "mimetype": "text/x-python",
   "name": "python",
   "nbconvert_exporter": "python",
   "pygments_lexer": "ipython3",
   "version": "3.9.6"
  }
 },
 "nbformat": 4,
 "nbformat_minor": 5
}
